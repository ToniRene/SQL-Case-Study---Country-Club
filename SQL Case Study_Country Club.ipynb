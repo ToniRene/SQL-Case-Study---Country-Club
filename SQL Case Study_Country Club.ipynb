{
 "cells": [
  {
   "cell_type": "markdown",
   "id": "54ca722e-262f-4550-a4ab-80801c929735",
   "metadata": {},
   "source": [
    " # ***Explore Data***"
   ]
  },
  {
   "cell_type": "code",
   "execution_count": 24,
   "id": "eff59e0b-e6ca-462e-aa75-4b21bf944a3b",
   "metadata": {},
   "outputs": [
    {
     "name": "stdout",
     "output_type": "stream",
     "text": [
      "    memid            surname  firstname  \\\n",
      "0       0              GUEST      GUEST   \n",
      "1       1              Smith     Darren   \n",
      "2       2              Smith      Tracy   \n",
      "3       3             Rownam        Tim   \n",
      "4       4           Joplette     Janice   \n",
      "5       5            Butters     Gerald   \n",
      "6       6              Tracy     Burton   \n",
      "7       7               Dare      Nancy   \n",
      "8       8             Boothe        Tim   \n",
      "9       9           Stibbons     Ponder   \n",
      "10     10               Owen    Charles   \n",
      "11     11              Jones      David   \n",
      "12     12              Baker       Anne   \n",
      "13     13            Farrell     Jemima   \n",
      "14     14              Smith       Jack   \n",
      "15     15              Bader   Florence   \n",
      "16     16              Baker    Timothy   \n",
      "17     17             Pinker      David   \n",
      "18     20            Genting    Matthew   \n",
      "19     21          Mackenzie       Anna   \n",
      "20     22             Coplin       Joan   \n",
      "21     24             Sarwin  Ramnaresh   \n",
      "22     26              Jones    Douglas   \n",
      "23     27             Rumney  Henrietta   \n",
      "24     28            Farrell      David   \n",
      "25     29  Worthington-Smyth      Henry   \n",
      "26     30            Purview  Millicent   \n",
      "27     33         Tupperware   Hyacinth   \n",
      "28     35               Hunt       John   \n",
      "29     36            Crumpet      Erica   \n",
      "30     37              Smith     Darren   \n",
      "\n",
      "                                    address  zipcode       telephone  \\\n",
      "0                                     GUEST        0  (000) 000-0000   \n",
      "1                8 Bloomsbury Close, Boston     4321    555-555-5555   \n",
      "2              8 Bloomsbury Close, New York     4321    555-555-5555   \n",
      "3                    23 Highway Way, Boston    23423  (844) 693-0723   \n",
      "4                20 Crossing Road, New York      234  (833) 942-4710   \n",
      "5            1065 Huntingdon Avenue, Boston    56754  (844) 078-4130   \n",
      "6                   3 Tunisia Drive, Boston    45678  (822) 354-9973   \n",
      "7               6 Hunting Lodge Way, Boston    10383  (833) 776-4001   \n",
      "8        3 Bloomsbury Close, Reading, 00234      234  (811) 433-2547   \n",
      "9                 5 Dragons Way, Winchester    87630  (833) 160-3900   \n",
      "10     52 Cheshire Grove, Winchester, 28563    28563  (855) 542-5251   \n",
      "11                 976 Gnats Close, Reading    33862  (844) 536-8036   \n",
      "12                55 Powdery Street, Boston    80743    844-076-5141   \n",
      "13          103 Firth Avenue, North Reading    57392  (855) 016-0163   \n",
      "14               252 Binkington Way, Boston    69302  (822) 163-3254   \n",
      "15               264 Ursula Drive, Westford    84923  (833) 499-3527   \n",
      "16                329 James Street, Reading    58393    833-941-0824   \n",
      "17                   5 Impreza Road, Boston    65332    811 409-6734   \n",
      "18    4 Nunnington Place, Wingfield, Boston    52365  (811) 972-1377   \n",
      "19              64 Perkington Lane, Reading    64577  (822) 661-2898   \n",
      "20      85 Bard Street, Bloomington, Boston    43533  (822) 499-2232   \n",
      "21               12 Bullington Lane, Boston    65464  (822) 413-1470   \n",
      "22                 976 Gnats Close, Reading    11986    844 536-8036   \n",
      "23               3 Burkington Plaza, Boston    78533  (822) 989-8876   \n",
      "24          437 Granite Farm Road, Westford    43532  (855) 755-9876   \n",
      "25              55 Jagbi Way, North Reading    97676  (855) 894-3758   \n",
      "26   641 Drudgery Close, Burnington, Boston    34232  (855) 941-9786   \n",
      "27  33 Cheerful Plaza, Drake Road, Westford    68666  (822) 665-5327   \n",
      "28                5 Bullington Lane, Boston    54333  (899) 720-6978   \n",
      "29              Crimson Road, North Reading    75655  (811) 732-4816   \n",
      "30           3 Funktown, Denzington, Boston    66796  (822) 577-3541   \n",
      "\n",
      "   recommendedby             joindate  \n",
      "0                 2012-07-01 00:00:00  \n",
      "1                 2012-07-02 12:02:05  \n",
      "2                 2012-07-02 12:08:23  \n",
      "3                 2012-07-03 09:32:15  \n",
      "4              1  2012-07-03 10:25:05  \n",
      "5              1  2012-07-09 10:44:09  \n",
      "6                 2012-07-15 08:52:55  \n",
      "7              4  2012-07-25 08:59:12  \n",
      "8              3  2012-07-25 16:02:35  \n",
      "9              6  2012-07-25 17:09:05  \n",
      "10             1  2012-08-03 19:42:37  \n",
      "11             4  2012-08-06 16:32:55  \n",
      "12             9  2012-08-10 14:23:22  \n",
      "13                2012-08-10 14:28:01  \n",
      "14             1  2012-08-10 16:22:05  \n",
      "15             9  2012-08-10 17:52:03  \n",
      "16            13  2012-08-15 10:34:25  \n",
      "17            13  2012-08-16 11:32:47  \n",
      "18             5  2012-08-19 14:55:55  \n",
      "19             1  2012-08-26 09:32:05  \n",
      "20            16  2012-08-29 08:32:41  \n",
      "21            15  2012-09-01 08:44:42  \n",
      "22            11  2012-09-02 18:43:05  \n",
      "23            20  2012-09-05 08:42:35  \n",
      "24                2012-09-15 08:22:05  \n",
      "25             2  2012-09-17 12:27:15  \n",
      "26             2  2012-09-18 19:04:01  \n",
      "27                2012-09-18 19:32:05  \n",
      "28            30  2012-09-19 11:32:45  \n",
      "29             2  2012-09-22 08:36:38  \n",
      "30                2012-09-26 18:08:45  \n"
     ]
    }
   ],
   "source": [
    "# Import packages\n",
    "from sqlalchemy import create_engine\n",
    "import pandas as pd\n",
    "\n",
    "# Connect to the SQLite database\n",
    "engine = create_engine('sqlite:///sqlite_db_pythonsqlite.db')\n",
    "\n",
    "# Load data from a table into a DataFrame\n",
    "df = pd.read_sql_query('SELECT * FROM Members', engine)\n",
    "\n",
    "# Display the DataFrame\n",
    "print(df)\n",
    "\n",
    "\n"
   ]
  },
  {
   "cell_type": "code",
   "execution_count": 25,
   "id": "c348a81a-789e-4cc7-9281-19bc692b7a57",
   "metadata": {},
   "outputs": [
    {
     "data": {
      "text/html": [
       "<div>\n",
       "<style scoped>\n",
       "    .dataframe tbody tr th:only-of-type {\n",
       "        vertical-align: middle;\n",
       "    }\n",
       "\n",
       "    .dataframe tbody tr th {\n",
       "        vertical-align: top;\n",
       "    }\n",
       "\n",
       "    .dataframe thead th {\n",
       "        text-align: right;\n",
       "    }\n",
       "</style>\n",
       "<table border=\"1\" class=\"dataframe\">\n",
       "  <thead>\n",
       "    <tr style=\"text-align: right;\">\n",
       "      <th></th>\n",
       "      <th>memid</th>\n",
       "      <th>surname</th>\n",
       "      <th>firstname</th>\n",
       "      <th>address</th>\n",
       "      <th>zipcode</th>\n",
       "      <th>telephone</th>\n",
       "      <th>recommendedby</th>\n",
       "      <th>joindate</th>\n",
       "    </tr>\n",
       "  </thead>\n",
       "  <tbody>\n",
       "    <tr>\n",
       "      <th>0</th>\n",
       "      <td>0</td>\n",
       "      <td>GUEST</td>\n",
       "      <td>GUEST</td>\n",
       "      <td>GUEST</td>\n",
       "      <td>0</td>\n",
       "      <td>(000) 000-0000</td>\n",
       "      <td></td>\n",
       "      <td>2012-07-01 00:00:00</td>\n",
       "    </tr>\n",
       "    <tr>\n",
       "      <th>1</th>\n",
       "      <td>1</td>\n",
       "      <td>Smith</td>\n",
       "      <td>Darren</td>\n",
       "      <td>8 Bloomsbury Close, Boston</td>\n",
       "      <td>4321</td>\n",
       "      <td>555-555-5555</td>\n",
       "      <td></td>\n",
       "      <td>2012-07-02 12:02:05</td>\n",
       "    </tr>\n",
       "    <tr>\n",
       "      <th>2</th>\n",
       "      <td>2</td>\n",
       "      <td>Smith</td>\n",
       "      <td>Tracy</td>\n",
       "      <td>8 Bloomsbury Close, New York</td>\n",
       "      <td>4321</td>\n",
       "      <td>555-555-5555</td>\n",
       "      <td></td>\n",
       "      <td>2012-07-02 12:08:23</td>\n",
       "    </tr>\n",
       "    <tr>\n",
       "      <th>3</th>\n",
       "      <td>3</td>\n",
       "      <td>Rownam</td>\n",
       "      <td>Tim</td>\n",
       "      <td>23 Highway Way, Boston</td>\n",
       "      <td>23423</td>\n",
       "      <td>(844) 693-0723</td>\n",
       "      <td></td>\n",
       "      <td>2012-07-03 09:32:15</td>\n",
       "    </tr>\n",
       "    <tr>\n",
       "      <th>4</th>\n",
       "      <td>4</td>\n",
       "      <td>Joplette</td>\n",
       "      <td>Janice</td>\n",
       "      <td>20 Crossing Road, New York</td>\n",
       "      <td>234</td>\n",
       "      <td>(833) 942-4710</td>\n",
       "      <td>1</td>\n",
       "      <td>2012-07-03 10:25:05</td>\n",
       "    </tr>\n",
       "  </tbody>\n",
       "</table>\n",
       "</div>"
      ],
      "text/plain": [
       "   memid   surname firstname                       address  zipcode  \\\n",
       "0      0     GUEST     GUEST                         GUEST        0   \n",
       "1      1     Smith    Darren    8 Bloomsbury Close, Boston     4321   \n",
       "2      2     Smith     Tracy  8 Bloomsbury Close, New York     4321   \n",
       "3      3    Rownam       Tim        23 Highway Way, Boston    23423   \n",
       "4      4  Joplette    Janice    20 Crossing Road, New York      234   \n",
       "\n",
       "        telephone recommendedby             joindate  \n",
       "0  (000) 000-0000                2012-07-01 00:00:00  \n",
       "1    555-555-5555                2012-07-02 12:02:05  \n",
       "2    555-555-5555                2012-07-02 12:08:23  \n",
       "3  (844) 693-0723                2012-07-03 09:32:15  \n",
       "4  (833) 942-4710             1  2012-07-03 10:25:05  "
      ]
     },
     "execution_count": 25,
     "metadata": {},
     "output_type": "execute_result"
    }
   ],
   "source": [
    "\n",
    "df.head(5)"
   ]
  },
  {
   "cell_type": "code",
   "execution_count": 30,
   "id": "fa576f62-2039-4fa4-8c25-7bc59095cf06",
   "metadata": {
    "scrolled": true
   },
   "outputs": [],
   "source": [
    "# Query the Bookings table\n",
    "bookings_df = pd.read_sql_query('SELECT * FROM Bookings', engine)"
   ]
  },
  {
   "cell_type": "code",
   "execution_count": 31,
   "id": "8a53a97a-11c3-41f1-b4d8-7885a1cecc72",
   "metadata": {},
   "outputs": [
    {
     "data": {
      "text/html": [
       "<div>\n",
       "<style scoped>\n",
       "    .dataframe tbody tr th:only-of-type {\n",
       "        vertical-align: middle;\n",
       "    }\n",
       "\n",
       "    .dataframe tbody tr th {\n",
       "        vertical-align: top;\n",
       "    }\n",
       "\n",
       "    .dataframe thead th {\n",
       "        text-align: right;\n",
       "    }\n",
       "</style>\n",
       "<table border=\"1\" class=\"dataframe\">\n",
       "  <thead>\n",
       "    <tr style=\"text-align: right;\">\n",
       "      <th></th>\n",
       "      <th>bookid</th>\n",
       "      <th>facid</th>\n",
       "      <th>memid</th>\n",
       "      <th>starttime</th>\n",
       "      <th>slots</th>\n",
       "    </tr>\n",
       "  </thead>\n",
       "  <tbody>\n",
       "    <tr>\n",
       "      <th>0</th>\n",
       "      <td>0</td>\n",
       "      <td>3</td>\n",
       "      <td>1</td>\n",
       "      <td>2012-07-03 11:00:00</td>\n",
       "      <td>2</td>\n",
       "    </tr>\n",
       "    <tr>\n",
       "      <th>1</th>\n",
       "      <td>1</td>\n",
       "      <td>4</td>\n",
       "      <td>1</td>\n",
       "      <td>2012-07-03 08:00:00</td>\n",
       "      <td>2</td>\n",
       "    </tr>\n",
       "    <tr>\n",
       "      <th>2</th>\n",
       "      <td>2</td>\n",
       "      <td>6</td>\n",
       "      <td>0</td>\n",
       "      <td>2012-07-03 18:00:00</td>\n",
       "      <td>2</td>\n",
       "    </tr>\n",
       "    <tr>\n",
       "      <th>3</th>\n",
       "      <td>3</td>\n",
       "      <td>7</td>\n",
       "      <td>1</td>\n",
       "      <td>2012-07-03 19:00:00</td>\n",
       "      <td>2</td>\n",
       "    </tr>\n",
       "    <tr>\n",
       "      <th>4</th>\n",
       "      <td>4</td>\n",
       "      <td>8</td>\n",
       "      <td>1</td>\n",
       "      <td>2012-07-03 10:00:00</td>\n",
       "      <td>1</td>\n",
       "    </tr>\n",
       "  </tbody>\n",
       "</table>\n",
       "</div>"
      ],
      "text/plain": [
       "   bookid  facid  memid            starttime  slots\n",
       "0       0      3      1  2012-07-03 11:00:00      2\n",
       "1       1      4      1  2012-07-03 08:00:00      2\n",
       "2       2      6      0  2012-07-03 18:00:00      2\n",
       "3       3      7      1  2012-07-03 19:00:00      2\n",
       "4       4      8      1  2012-07-03 10:00:00      1"
      ]
     },
     "execution_count": 31,
     "metadata": {},
     "output_type": "execute_result"
    }
   ],
   "source": [
    "bookings_df.head(5)"
   ]
  },
  {
   "cell_type": "code",
   "execution_count": 33,
   "id": "43769ddf-a19b-4911-a026-e7eb08305fde",
   "metadata": {},
   "outputs": [],
   "source": [
    "# Query the Bookings table\n",
    "facilities_df = pd.read_sql_query('SELECT * FROM Facilities', engine)"
   ]
  },
  {
   "cell_type": "code",
   "execution_count": 34,
   "id": "1e3512e5-bd07-43d5-a0a8-b633682a41d5",
   "metadata": {},
   "outputs": [
    {
     "data": {
      "text/html": [
       "<div>\n",
       "<style scoped>\n",
       "    .dataframe tbody tr th:only-of-type {\n",
       "        vertical-align: middle;\n",
       "    }\n",
       "\n",
       "    .dataframe tbody tr th {\n",
       "        vertical-align: top;\n",
       "    }\n",
       "\n",
       "    .dataframe thead th {\n",
       "        text-align: right;\n",
       "    }\n",
       "</style>\n",
       "<table border=\"1\" class=\"dataframe\">\n",
       "  <thead>\n",
       "    <tr style=\"text-align: right;\">\n",
       "      <th></th>\n",
       "      <th>facid</th>\n",
       "      <th>name</th>\n",
       "      <th>membercost</th>\n",
       "      <th>guestcost</th>\n",
       "      <th>initialoutlay</th>\n",
       "      <th>monthlymaintenance</th>\n",
       "    </tr>\n",
       "  </thead>\n",
       "  <tbody>\n",
       "    <tr>\n",
       "      <th>0</th>\n",
       "      <td>0</td>\n",
       "      <td>Tennis Court 1</td>\n",
       "      <td>5.0</td>\n",
       "      <td>25.0</td>\n",
       "      <td>10000</td>\n",
       "      <td>200</td>\n",
       "    </tr>\n",
       "    <tr>\n",
       "      <th>1</th>\n",
       "      <td>1</td>\n",
       "      <td>Tennis Court 2</td>\n",
       "      <td>5.0</td>\n",
       "      <td>25.0</td>\n",
       "      <td>8000</td>\n",
       "      <td>200</td>\n",
       "    </tr>\n",
       "    <tr>\n",
       "      <th>2</th>\n",
       "      <td>2</td>\n",
       "      <td>Badminton Court</td>\n",
       "      <td>0.0</td>\n",
       "      <td>15.5</td>\n",
       "      <td>4000</td>\n",
       "      <td>50</td>\n",
       "    </tr>\n",
       "    <tr>\n",
       "      <th>3</th>\n",
       "      <td>3</td>\n",
       "      <td>Table Tennis</td>\n",
       "      <td>0.0</td>\n",
       "      <td>5.0</td>\n",
       "      <td>320</td>\n",
       "      <td>10</td>\n",
       "    </tr>\n",
       "    <tr>\n",
       "      <th>4</th>\n",
       "      <td>4</td>\n",
       "      <td>Massage Room 1</td>\n",
       "      <td>9.9</td>\n",
       "      <td>80.0</td>\n",
       "      <td>4000</td>\n",
       "      <td>3000</td>\n",
       "    </tr>\n",
       "  </tbody>\n",
       "</table>\n",
       "</div>"
      ],
      "text/plain": [
       "   facid             name  membercost  guestcost  initialoutlay  \\\n",
       "0      0   Tennis Court 1         5.0       25.0          10000   \n",
       "1      1   Tennis Court 2         5.0       25.0           8000   \n",
       "2      2  Badminton Court         0.0       15.5           4000   \n",
       "3      3     Table Tennis         0.0        5.0            320   \n",
       "4      4   Massage Room 1         9.9       80.0           4000   \n",
       "\n",
       "   monthlymaintenance  \n",
       "0                 200  \n",
       "1                 200  \n",
       "2                  50  \n",
       "3                  10  \n",
       "4                3000  "
      ]
     },
     "execution_count": 34,
     "metadata": {},
     "output_type": "execute_result"
    }
   ],
   "source": [
    "facilities_df.head(5)"
   ]
  },
  {
   "cell_type": "markdown",
   "id": "affc9ec7-6ec8-4f81-8226-76bf38ebca99",
   "metadata": {},
   "source": [
    "## Q1: Some of the facilities charge a fee to members, but some do not. Write a SQL query to produce a list of the names of the facilities that do."
   ]
  },
  {
   "cell_type": "code",
   "execution_count": 36,
   "id": "ba5ebcd3-755b-4f58-8fe3-9efaf0550bb6",
   "metadata": {},
   "outputs": [
    {
     "name": "stdout",
     "output_type": "stream",
     "text": [
      "             name\n",
      "0  Tennis Court 1\n",
      "1  Tennis Court 2\n",
      "2  Massage Room 1\n",
      "3  Massage Room 2\n",
      "4    Squash Court\n"
     ]
    }
   ],
   "source": [
    "# Query to find facilities that charge a fee to members\n",
    "query = \"\"\"\n",
    "SELECT name \n",
    "FROM Facilities \n",
    "WHERE membercost > 0;\n",
    "\"\"\"\n",
    "\n",
    "# Execute the query and load the results into a DataFrame\n",
    "result_df = pd.read_sql_query(query, engine)\n",
    "\n",
    "# Display the result\n",
    "print(result_df)"
   ]
  },
  {
   "cell_type": "markdown",
   "id": "85f90bd0-ab74-498a-8b08-74165fa9dc82",
   "metadata": {},
   "source": [
    "## Q2: How many facilities do not charge a fee to members? "
   ]
  },
  {
   "cell_type": "code",
   "execution_count": 38,
   "id": "31a7df05-c864-44fc-ab75-0c16bb38e1fe",
   "metadata": {},
   "outputs": [
    {
     "name": "stdout",
     "output_type": "stream",
     "text": [
      "Number of facilities without a fee to members: 4\n"
     ]
    }
   ],
   "source": [
    "# Query to count facilities without fee to members\n",
    "query = \"\"\"\n",
    "SELECT COUNT(*) AS num_facilities_without_fee\n",
    "FROM Facilities \n",
    "WHERE membercost = 0;\n",
    "\"\"\"\n",
    "\n",
    "# Execute the query and load the result into a DataFrame\n",
    "result_df = pd.read_sql_query(query, engine)\n",
    "\n",
    "# Display the result\n",
    "print(\"Number of facilities without a fee to members:\", result_df['num_facilities_without_fee'].iloc[0])"
   ]
  },
  {
   "cell_type": "markdown",
   "id": "228f5525-f577-4b95-93b5-48822d9870a3",
   "metadata": {},
   "source": [
    "## Q3: Write an SQL query to show a list of facilities that charge a fee to members,where the fee is less than 20% of the facility's monthly maintenance cost.Return the facid, facility name, member cost, and monthly maintenance of the facilities in question."
   ]
  },
  {
   "cell_type": "code",
   "execution_count": 39,
   "id": "8225a5ea-bd0b-465e-abff-7671e5657561",
   "metadata": {},
   "outputs": [
    {
     "name": "stdout",
     "output_type": "stream",
     "text": [
      "   facid            name  membercost  monthlymaintenance\n",
      "0      0  Tennis Court 1         5.0                 200\n",
      "1      1  Tennis Court 2         5.0                 200\n",
      "2      4  Massage Room 1         9.9                3000\n",
      "3      5  Massage Room 2         9.9                3000\n",
      "4      6    Squash Court         3.5                  80\n"
     ]
    }
   ],
   "source": [
    "# Query to show facilities that charge a fee to members where the fee is less than 20% of the monthly maintenance cost\n",
    "query = \"\"\"\n",
    "SELECT facid, name, membercost, monthlymaintenance \n",
    "FROM Facilities \n",
    "WHERE membercost > 0 \n",
    "AND membercost < (monthlymaintenance * 0.2);\n",
    "\"\"\"\n",
    "\n",
    "# Execute the query and load the results into a DataFrame\n",
    "result_df = pd.read_sql_query(query, engine)\n",
    "\n",
    "# Display the result\n",
    "print(result_df)"
   ]
  },
  {
   "cell_type": "markdown",
   "id": "45f09fd7-a3ed-41b5-982a-9e28e11f69b4",
   "metadata": {},
   "source": [
    "## Q4: Write an SQL query to retrieve the details of facilities with ID 1 and 5. Try writing the query without using the OR operator."
   ]
  },
  {
   "cell_type": "code",
   "execution_count": 40,
   "id": "c5660702-8168-4a48-b4ae-db1bdd254c83",
   "metadata": {},
   "outputs": [
    {
     "name": "stdout",
     "output_type": "stream",
     "text": [
      "   facid            name  membercost  guestcost  initialoutlay  \\\n",
      "0      1  Tennis Court 2         5.0         25           8000   \n",
      "1      5  Massage Room 2         9.9         80           4000   \n",
      "\n",
      "   monthlymaintenance  \n",
      "0                 200  \n",
      "1                3000  \n"
     ]
    }
   ],
   "source": [
    "# Query to retrieve the details of facilities with ID 1 and 5\n",
    "query = \"\"\"\n",
    "SELECT *\n",
    "FROM Facilities \n",
    "WHERE facid IN (1, 5);\n",
    "\"\"\"\n",
    "\n",
    "# Execute the query and load the results into a DataFrame\n",
    "result_df = pd.read_sql_query(query, engine)\n",
    "\n",
    "# Display the result\n",
    "print(result_df)"
   ]
  },
  {
   "cell_type": "markdown",
   "id": "68ab9d40-697a-43c6-8110-d71b4098546c",
   "metadata": {},
   "source": [
    "## Q5: Produce a list of facilities, with each labelled as 'cheap' or 'expensive', depending on if their monthly maintenance cost is more than $100. Return the name and monthly maintenance of the facilities in question."
   ]
  },
  {
   "cell_type": "code",
   "execution_count": 41,
   "id": "ae4cb9f2-dcf4-409e-980d-c9dd7c228f3f",
   "metadata": {},
   "outputs": [
    {
     "name": "stdout",
     "output_type": "stream",
     "text": [
      "              name  monthlymaintenance cost_label\n",
      "0   Tennis Court 1                 200  expensive\n",
      "1   Tennis Court 2                 200  expensive\n",
      "2  Badminton Court                  50      cheap\n",
      "3     Table Tennis                  10      cheap\n",
      "4   Massage Room 1                3000  expensive\n",
      "5   Massage Room 2                3000  expensive\n",
      "6     Squash Court                  80      cheap\n",
      "7    Snooker Table                  15      cheap\n",
      "8       Pool Table                  15      cheap\n"
     ]
    }
   ],
   "source": [
    "# Query to produce a list of facilities labeled as 'cheap' or 'expensive'\n",
    "query = \"\"\"\n",
    "SELECT \n",
    "    name,\n",
    "    monthlymaintenance,\n",
    "    CASE \n",
    "        WHEN monthlymaintenance > 100 THEN 'expensive'\n",
    "        ELSE 'cheap'\n",
    "    END AS cost_label\n",
    "FROM \n",
    "    Facilities;\n",
    "\"\"\"\n",
    "\n",
    "# Execute the query and load the results into a DataFrame\n",
    "result_df = pd.read_sql_query(query, engine)\n",
    "\n",
    "# Display the result\n",
    "print(result_df)"
   ]
  },
  {
   "cell_type": "markdown",
   "id": "58d55fec-c150-44f1-9e1d-843a761fa92b",
   "metadata": {},
   "source": [
    "## Q6: You'd like to get the first and last name of the last member(s) who signed up. Try not to use the LIMIT clause for your solution."
   ]
  },
  {
   "cell_type": "code",
   "execution_count": 42,
   "id": "a31205ef-ee84-4b40-a6af-e22943d6259b",
   "metadata": {},
   "outputs": [
    {
     "name": "stdout",
     "output_type": "stream",
     "text": [
      "  firstname surname\n",
      "0    Darren   Smith\n"
     ]
    }
   ],
   "source": [
    "# Query to retrieve the first and last name of the last member(s) who signed up\n",
    "query = \"\"\"\n",
    "SELECT firstname, surname\n",
    "FROM Members\n",
    "WHERE joindate = (SELECT MAX(joindate) FROM Members);\n",
    "\"\"\"\n",
    "\n",
    "# Execute the query and load the results into a DataFrame\n",
    "result_df = pd.read_sql_query(query, engine)\n",
    "\n",
    "# Display the result\n",
    "print(result_df)"
   ]
  },
  {
   "cell_type": "markdown",
   "id": "0cc39145-0376-498a-900d-ecb2a708587f",
   "metadata": {},
   "source": [
    "## Q7: Produce a list of all members who have used a tennis court. Include in your output the name of the court, and the name of the member formatted as a single column. Ensure no duplicate data, and order by the member name."
   ]
  },
  {
   "cell_type": "code",
   "execution_count": 45,
   "id": "2c06b1b7-d8ad-4bf7-a089-96702cccddd5",
   "metadata": {},
   "outputs": [
    {
     "name": "stdout",
     "output_type": "stream",
     "text": [
      "          member_name    tennis_court\n",
      "0          Anne Baker  Tennis Court 1\n",
      "1          Anne Baker  Tennis Court 2\n",
      "2        Burton Tracy  Tennis Court 2\n",
      "3        Burton Tracy  Tennis Court 1\n",
      "4        Charles Owen  Tennis Court 1\n",
      "5        Charles Owen  Tennis Court 2\n",
      "6        Darren Smith  Tennis Court 2\n",
      "7       David Farrell  Tennis Court 1\n",
      "8       David Farrell  Tennis Court 2\n",
      "9         David Jones  Tennis Court 2\n",
      "10        David Jones  Tennis Court 1\n",
      "11       David Pinker  Tennis Court 1\n",
      "12      Douglas Jones  Tennis Court 1\n",
      "13      Erica Crumpet  Tennis Court 1\n",
      "14     Florence Bader  Tennis Court 2\n",
      "15     Florence Bader  Tennis Court 1\n",
      "16        GUEST GUEST  Tennis Court 2\n",
      "17        GUEST GUEST  Tennis Court 1\n",
      "18     Gerald Butters  Tennis Court 1\n",
      "19     Gerald Butters  Tennis Court 2\n",
      "20   Henrietta Rumney  Tennis Court 2\n",
      "21         Jack Smith  Tennis Court 1\n",
      "22         Jack Smith  Tennis Court 2\n",
      "23    Janice Joplette  Tennis Court 1\n",
      "24    Janice Joplette  Tennis Court 2\n",
      "25     Jemima Farrell  Tennis Court 2\n",
      "26     Jemima Farrell  Tennis Court 1\n",
      "27        Joan Coplin  Tennis Court 1\n",
      "28          John Hunt  Tennis Court 1\n",
      "29          John Hunt  Tennis Court 2\n",
      "30    Matthew Genting  Tennis Court 1\n",
      "31  Millicent Purview  Tennis Court 2\n",
      "32         Nancy Dare  Tennis Court 2\n",
      "33         Nancy Dare  Tennis Court 1\n",
      "34    Ponder Stibbons  Tennis Court 2\n",
      "35    Ponder Stibbons  Tennis Court 1\n",
      "36   Ramnaresh Sarwin  Tennis Court 2\n",
      "37   Ramnaresh Sarwin  Tennis Court 1\n",
      "38         Tim Boothe  Tennis Court 2\n",
      "39         Tim Boothe  Tennis Court 1\n",
      "40         Tim Rownam  Tennis Court 2\n",
      "41         Tim Rownam  Tennis Court 1\n",
      "42      Timothy Baker  Tennis Court 2\n",
      "43      Timothy Baker  Tennis Court 1\n",
      "44        Tracy Smith  Tennis Court 1\n",
      "45        Tracy Smith  Tennis Court 2\n"
     ]
    }
   ],
   "source": [
    "# Query to produce a list of all members who have used a tennis court\n",
    "query = \"\"\"\n",
    "SELECT DISTINCT Members.firstname || ' ' || Members.surname AS member_name,\n",
    "                Facilities.name AS tennis_court\n",
    "FROM Bookings\n",
    "JOIN Facilities ON Bookings.facid = Facilities.facid\n",
    "JOIN Members ON Bookings.memid = Members.memid\n",
    "WHERE Facilities.name LIKE 'Tennis Court%'\n",
    "ORDER BY member_name;\n",
    "\"\"\"\n",
    "\n",
    "# Execute the query and load the results into a DataFrame\n",
    "result_df = pd.read_sql_query(query, engine)\n",
    "\n",
    "# Display the result\n",
    "print(result_df)"
   ]
  },
  {
   "cell_type": "markdown",
   "id": "559aeb30-70b0-4dd0-8127-24448aa54f4c",
   "metadata": {},
   "source": [
    "## Q8: Produce a list of bookings on the day of 2012-09-14 which will cost the member (or guest) more than $30. Remember that guests have different costs to members (the listed costs are per half-hour 'slot'), and the guest user's ID is always 0. Include in your output the name of the facility, the name of the member formatted as a single column, and the cost. Order by descending cost, and do not use any subqueries."
   ]
  },
  {
   "cell_type": "code",
   "execution_count": 50,
   "id": "48aff529-1daa-4a92-8b81-36481ccd7856",
   "metadata": {},
   "outputs": [
    {
     "name": "stdout",
     "output_type": "stream",
     "text": [
      "     facility_name     member_name   cost\n",
      "0   Massage Room 2     GUEST GUEST  320.0\n",
      "1   Massage Room 1     GUEST GUEST  160.0\n",
      "2   Massage Room 1     GUEST GUEST  160.0\n",
      "3   Massage Room 1     GUEST GUEST  160.0\n",
      "4   Tennis Court 2     GUEST GUEST  150.0\n",
      "5   Tennis Court 1     GUEST GUEST   75.0\n",
      "6   Tennis Court 1     GUEST GUEST   75.0\n",
      "7   Tennis Court 2     GUEST GUEST   75.0\n",
      "8     Squash Court     GUEST GUEST   70.0\n",
      "9   Massage Room 1  Jemima Farrell   39.6\n",
      "10    Squash Court     GUEST GUEST   35.0\n",
      "11    Squash Court     GUEST GUEST   35.0\n"
     ]
    }
   ],
   "source": [
    "# Query to produce a list of bookings on the day of 2012-09-14 costing more than $30\n",
    "query = \"\"\"\n",
    "SELECT \n",
    "    Facilities.name AS facility_name,\n",
    "    Members.firstname || ' ' || Members.surname AS member_name,\n",
    "    CASE \n",
    "        WHEN Bookings.memid = 0 THEN Bookings.slots * Facilities.guestcost\n",
    "        ELSE Bookings.slots * Facilities.membercost\n",
    "    END AS cost\n",
    "FROM \n",
    "    Bookings\n",
    "JOIN \n",
    "    Facilities ON Bookings.facid = Facilities.facid\n",
    "LEFT JOIN \n",
    "    Members ON Bookings.memid = Members.memid\n",
    "WHERE \n",
    "    Bookings.starttime LIKE '2012-09-14%' \n",
    "    AND (\n",
    "        (Bookings.memid = 0 AND Bookings.slots * Facilities.guestcost > 30)\n",
    "        OR\n",
    "        (Bookings.memid != 0 AND Bookings.slots * Facilities.membercost > 30)\n",
    "    )\n",
    "ORDER BY \n",
    "    cost DESC;\n",
    "\"\"\"\n",
    "\n",
    "# Execute the query and load the results into a DataFrame\n",
    "result_df = pd.read_sql_query(query, engine)\n",
    "\n",
    "# Display the result\n",
    "print(result_df)\n"
   ]
  },
  {
   "cell_type": "markdown",
   "id": "b701a725-8bf3-47d0-9e07-b217c0ee5527",
   "metadata": {},
   "source": [
    "## Q9: This time, produce the same result as in Q8, but using a subquery."
   ]
  },
  {
   "cell_type": "code",
   "execution_count": 53,
   "id": "2914dab7-17b5-4c30-a8aa-dbd77fe3b1f7",
   "metadata": {},
   "outputs": [
    {
     "name": "stdout",
     "output_type": "stream",
     "text": [
      "   september_fourteen_bookings   cost\n",
      "0                  GUEST GUEST  320.0\n",
      "1                  GUEST GUEST  160.0\n",
      "2                  GUEST GUEST  160.0\n",
      "3                  GUEST GUEST  160.0\n",
      "4                  GUEST GUEST  150.0\n",
      "5                  GUEST GUEST   75.0\n",
      "6                  GUEST GUEST   75.0\n",
      "7                  GUEST GUEST   75.0\n",
      "8                  GUEST GUEST   70.0\n",
      "9               Jemima Farrell   39.6\n",
      "10                 GUEST GUEST   35.0\n",
      "11                 GUEST GUEST   35.0\n"
     ]
    }
   ],
   "source": [
    "# Query to produce the same result as in Q8 using a subquery\n",
    "query = \"\"\"\n",
    "SELECT \n",
    "    Members.firstname || ' ' || Members.surname AS september_fourteen_bookings,\n",
    "    cost\n",
    "FROM (\n",
    "    SELECT \n",
    "        Bookings.memid,\n",
    "        Facilities.name,\n",
    "        CASE \n",
    "            WHEN Bookings.memid = 0 THEN Bookings.slots * Facilities.guestcost\n",
    "            ELSE Bookings.slots * Facilities.membercost\n",
    "        END AS cost\n",
    "    FROM \n",
    "        Bookings\n",
    "    JOIN \n",
    "        Facilities ON Bookings.facid = Facilities.facid\n",
    "    WHERE \n",
    "        Bookings.starttime LIKE '2012-09-14%' \n",
    "        AND (\n",
    "            (Bookings.memid = 0 AND Bookings.slots * Facilities.guestcost > 30)\n",
    "            OR\n",
    "            (Bookings.memid != 0 AND Bookings.slots * Facilities.membercost > 30)\n",
    "        )\n",
    ") AS subquery\n",
    "LEFT JOIN \n",
    "    Members ON subquery.memid = Members.memid\n",
    "ORDER BY \n",
    "    cost DESC;\n",
    "\"\"\"\n",
    "\n",
    "\n",
    "# Execute the query and load the results into a DataFrame\n",
    "result_df = pd.read_sql_query(query, engine)\n",
    "\n",
    "# Display the result\n",
    "print(result_df)\n"
   ]
  },
  {
   "cell_type": "markdown",
   "id": "e7119535-b3f4-4fbf-8a2b-2a3042a0af4b",
   "metadata": {},
   "source": [
    "# Part 2"
   ]
  },
  {
   "cell_type": "code",
   "execution_count": 56,
   "id": "002525ca-1c5d-40d2-b04c-c05b04722e6d",
   "metadata": {},
   "outputs": [
    {
     "name": "stdout",
     "output_type": "stream",
     "text": [
      "(0, 'GUEST', 'GUEST', 'GUEST', 0, '(000) 000-0000', '', '2012-07-01 00:00:00')\n",
      "(1, 'Smith', 'Darren', '8 Bloomsbury Close, Boston', 4321, '555-555-5555', '', '2012-07-02 12:02:05')\n",
      "(2, 'Smith', 'Tracy', '8 Bloomsbury Close, New York', 4321, '555-555-5555', '', '2012-07-02 12:08:23')\n",
      "(3, 'Rownam', 'Tim', '23 Highway Way, Boston', 23423, '(844) 693-0723', '', '2012-07-03 09:32:15')\n",
      "(4, 'Joplette', 'Janice', '20 Crossing Road, New York', 234, '(833) 942-4710', '1', '2012-07-03 10:25:05')\n",
      "(0, 'Tennis Court 1', 5, 25, 10000, 200)\n",
      "(1, 'Tennis Court 2', 5, 25, 8000, 200)\n",
      "(2, 'Badminton Court', 0, 15.5, 4000, 50)\n",
      "(3, 'Table Tennis', 0, 5, 320, 10)\n",
      "(4, 'Massage Room 1', 9.9, 80, 4000, 3000)\n",
      "(0, 3, 1, '2012-07-03 11:00:00', 2)\n",
      "(1, 4, 1, '2012-07-03 08:00:00', 2)\n",
      "(2, 6, 0, '2012-07-03 18:00:00', 2)\n",
      "(3, 7, 1, '2012-07-03 19:00:00', 2)\n",
      "(4, 8, 1, '2012-07-03 10:00:00', 1)\n"
     ]
    }
   ],
   "source": [
    "# Import necessary libraries\n",
    "import sqlite3\n",
    "\n",
    "# Connect to SQLite database\n",
    "conn = sqlite3.connect('country_club.db')\n",
    "\n",
    "# Create a cursor object\n",
    "cursor = conn.cursor()\n",
    "\n",
    "# Execute SQL queries using the cursor object\n",
    "cursor.execute(\"SELECT * FROM Members LIMIT 5\")\n",
    "rows = cursor.fetchall()\n",
    "for row in rows:\n",
    "    print(row)\n",
    "\n",
    "cursor.execute(\"SELECT * FROM Facilities LIMIT 5\")\n",
    "rows = cursor.fetchall()\n",
    "for row in rows:\n",
    "    print(row)\n",
    "\n",
    "cursor.execute(\"SELECT * FROM Bookings LIMIT 5\")\n",
    "rows = cursor.fetchall()\n",
    "for row in rows:\n",
    "    print(row)"
   ]
  },
  {
   "cell_type": "markdown",
   "id": "a43a16c3-b085-4ab1-90bf-6aa91b7bd2f3",
   "metadata": {},
   "source": [
    "## Q10: Produce a list of facilities with a total revenue less than 1000. The output of facility name and total revenue, sorted by revenue. Remember that there's a different cost for guests and members!"
   ]
  },
  {
   "cell_type": "code",
   "execution_count": 57,
   "id": "877dce52-4fac-4de5-964a-95296d8568bd",
   "metadata": {},
   "outputs": [
    {
     "name": "stdout",
     "output_type": "stream",
     "text": [
      "   facility_name  total_revenue\n",
      "0   Table Tennis            180\n",
      "1  Snooker Table            240\n",
      "2     Pool Table            270\n"
     ]
    }
   ],
   "source": [
    "# Query to produce a list of facilities with total revenue less than 1000\n",
    "query = \"\"\"\n",
    "SELECT \n",
    "    Facilities.name AS facility_name,\n",
    "    SUM(\n",
    "        CASE \n",
    "            WHEN Bookings.memid = 0 THEN Bookings.slots * Facilities.guestcost\n",
    "            ELSE Bookings.slots * Facilities.membercost\n",
    "        END\n",
    "    ) AS total_revenue\n",
    "FROM \n",
    "    Bookings\n",
    "JOIN \n",
    "    Facilities ON Bookings.facid = Facilities.facid\n",
    "GROUP BY \n",
    "    Facilities.name\n",
    "HAVING \n",
    "    total_revenue < 1000\n",
    "ORDER BY \n",
    "    total_revenue;\n",
    "\"\"\"\n",
    "\n",
    "# Execute the query and load the results into a DataFrame\n",
    "result_df = pd.read_sql_query(query, conn)\n",
    "\n",
    "# Display the result\n",
    "print(result_df)"
   ]
  },
  {
   "cell_type": "markdown",
   "id": "1a45b84f-9ad8-4c7d-a028-33471f7ddd6d",
   "metadata": {},
   "source": [
    "## Q11: Produce a report of members and who recommended them in alphabetic surname,firstname order"
   ]
  },
  {
   "cell_type": "code",
   "execution_count": 64,
   "id": "ff55bd3b-9cb5-4b6c-95bf-fe4423338644",
   "metadata": {},
   "outputs": [
    {
     "name": "stdout",
     "output_type": "stream",
     "text": [
      "                member_name     recommended_by\n",
      "0            Bader,Florence    Stibbons,Ponder\n",
      "1                Baker,Anne    Stibbons,Ponder\n",
      "2             Baker,Timothy     Farrell,Jemima\n",
      "3                Boothe,Tim         Rownam,Tim\n",
      "4            Butters,Gerald       Smith,Darren\n",
      "5               Coplin,Joan      Baker,Timothy\n",
      "6             Crumpet,Erica        Smith,Tracy\n",
      "7                Dare,Nancy    Joplette,Janice\n",
      "8             Farrell,David               None\n",
      "9            Farrell,Jemima               None\n",
      "10              GUEST,GUEST               None\n",
      "11          Genting,Matthew     Butters,Gerald\n",
      "12                Hunt,John  Purview,Millicent\n",
      "13              Jones,David    Joplette,Janice\n",
      "14            Jones,Douglas        Jones,David\n",
      "15          Joplette,Janice       Smith,Darren\n",
      "16           Mackenzie,Anna       Smith,Darren\n",
      "17             Owen,Charles       Smith,Darren\n",
      "18             Pinker,David     Farrell,Jemima\n",
      "19        Purview,Millicent        Smith,Tracy\n",
      "20               Rownam,Tim               None\n",
      "21         Rumney,Henrietta    Genting,Matthew\n",
      "22         Sarwin,Ramnaresh     Bader,Florence\n",
      "23             Smith,Darren               None\n",
      "24             Smith,Darren               None\n",
      "25               Smith,Jack       Smith,Darren\n",
      "26              Smith,Tracy               None\n",
      "27          Stibbons,Ponder       Tracy,Burton\n",
      "28             Tracy,Burton               None\n",
      "29      Tupperware,Hyacinth               None\n",
      "30  Worthington-Smyth,Henry        Smith,Tracy\n"
     ]
    }
   ],
   "source": [
    "# Import necessary libraries\n",
    "import sqlite3\n",
    "\n",
    "# Connect to SQLite database\n",
    "conn = sqlite3.connect('country_club.db')\n",
    "\n",
    "# Query to produce the report of members and who recommended them\n",
    "query = \"\"\"\n",
    "SELECT \n",
    "    m1.surname || ',' || m1.firstname AS member_name,\n",
    "    m2.surname || ',' || m2.firstname AS recommended_by\n",
    "FROM \n",
    "    Members AS m1\n",
    "LEFT JOIN \n",
    "    Members AS m2 ON m1.recommendedby = m2.memid\n",
    "ORDER BY \n",
    "    m1.surname, m1.firstname;\n",
    "\"\"\"\n",
    "\n",
    "# Execute the query and load the results into a DataFrame\n",
    "result_df = pd.read_sql_query(query, conn)\n",
    "\n",
    "# Display the result\n",
    "print(result_df)"
   ]
  },
  {
   "cell_type": "markdown",
   "id": "063cb13f-5989-4b23-a4e8-05d2ba35f195",
   "metadata": {},
   "source": [
    "## Q12: Find the facilities with their usage by member, but not guests"
   ]
  },
  {
   "cell_type": "code",
   "execution_count": 59,
   "id": "d98de1b1-5385-49e6-9ed2-bbccb78788f5",
   "metadata": {},
   "outputs": [
    {
     "name": "stdout",
     "output_type": "stream",
     "text": [
      "       facility_name       member_name  usage\n",
      "0    Badminton Court    Anna Mackenzie     30\n",
      "1    Badminton Court        Anne Baker     10\n",
      "2    Badminton Court      Burton Tracy      2\n",
      "3    Badminton Court      Charles Owen      6\n",
      "4    Badminton Court      Darren Smith    132\n",
      "..               ...               ...    ...\n",
      "197   Tennis Court 2  Ramnaresh Sarwin     11\n",
      "198   Tennis Court 2        Tim Boothe     52\n",
      "199   Tennis Court 2        Tim Rownam      6\n",
      "200   Tennis Court 2     Timothy Baker      7\n",
      "201   Tennis Court 2       Tracy Smith      2\n",
      "\n",
      "[202 rows x 3 columns]\n"
     ]
    }
   ],
   "source": [
    "# Query to find the facilities with their usage by members, but not guests\n",
    "query = \"\"\"\n",
    "SELECT \n",
    "    f.name AS facility_name,\n",
    "    m.firstname || ' ' || m.surname AS member_name,\n",
    "    COUNT(*) AS usage\n",
    "FROM \n",
    "    Bookings AS b\n",
    "JOIN \n",
    "    Facilities AS f ON b.facid = f.facid\n",
    "JOIN \n",
    "    Members AS m ON b.memid = m.memid\n",
    "WHERE \n",
    "    b.memid != 0\n",
    "GROUP BY \n",
    "    facility_name, member_name;\n",
    "\"\"\"\n",
    "\n",
    "# Execute the query and load the results into a DataFrame\n",
    "result_df = pd.read_sql_query(query, conn)\n",
    "\n",
    "# Display the result\n",
    "print(result_df)"
   ]
  },
  {
   "cell_type": "markdown",
   "id": "f2b144f4-ab31-4702-aa2a-05526d040cdf",
   "metadata": {},
   "source": [
    "## Q13: Find the facilities usage by month, but not guests"
   ]
  },
  {
   "cell_type": "code",
   "execution_count": 65,
   "id": "42ca8970-0fd5-4453-862c-744df2bf66fb",
   "metadata": {},
   "outputs": [
    {
     "name": "stdout",
     "output_type": "stream",
     "text": [
      "   month    facility_name  usage\n",
      "0     07  Badminton Court     51\n",
      "1     07   Massage Room 1     77\n",
      "2     07   Massage Room 2      4\n",
      "3     07       Pool Table    103\n",
      "4     07    Snooker Table     68\n",
      "5     07     Squash Court     23\n",
      "6     07     Table Tennis     48\n",
      "7     07   Tennis Court 1     65\n",
      "8     07   Tennis Court 2     41\n",
      "9     08  Badminton Court    132\n",
      "10    08   Massage Room 1    153\n",
      "11    08   Massage Room 2      9\n",
      "12    08       Pool Table    272\n",
      "13    08    Snooker Table    154\n",
      "14    08     Squash Court     85\n",
      "15    08     Table Tennis    143\n",
      "16    08   Tennis Court 1    111\n",
      "17    08   Tennis Court 2    109\n",
      "18    09  Badminton Court    161\n",
      "19    09   Massage Room 1    191\n",
      "20    09   Massage Room 2     14\n",
      "21    09       Pool Table    408\n",
      "22    09    Snooker Table    199\n",
      "23    09     Squash Court     87\n",
      "24    09     Table Tennis    194\n",
      "25    09   Tennis Court 1    132\n",
      "26    09   Tennis Court 2    126\n"
     ]
    }
   ],
   "source": [
    "# Query to find the facilities' usage by month, excluding guests\n",
    "query = \"\"\"\n",
    "SELECT \n",
    "    strftime('%m', starttime) AS month,\n",
    "    f.name AS facility_name,\n",
    "    COUNT(*) AS usage\n",
    "FROM \n",
    "    Bookings AS b\n",
    "JOIN \n",
    "    Facilities AS f ON b.facid = f.facid\n",
    "WHERE \n",
    "    b.memid != 0\n",
    "GROUP BY \n",
    "    month, facility_name;\n",
    "\"\"\"\n",
    "\n",
    "# Execute the query and load the results into a DataFrame\n",
    "result_df = pd.read_sql_query(query, conn)\n",
    "\n",
    "# Display the result\n",
    "print(result_df)\n",
    "\n",
    "# Close the connection\n",
    "conn.close()"
   ]
  },
  {
   "cell_type": "code",
   "execution_count": null,
   "id": "fa99da74-ffb8-421c-85e7-7c2432f3f3ea",
   "metadata": {},
   "outputs": [],
   "source": []
  },
  {
   "cell_type": "code",
   "execution_count": null,
   "id": "16372cdb-64da-40b7-b5e3-601e03bebcb9",
   "metadata": {},
   "outputs": [],
   "source": []
  },
  {
   "cell_type": "code",
   "execution_count": null,
   "id": "cde66ae7-c01e-4cff-a5cd-e463dae3f307",
   "metadata": {},
   "outputs": [],
   "source": []
  }
 ],
 "metadata": {
  "kernelspec": {
   "display_name": "Python 3 (ipykernel)",
   "language": "python",
   "name": "python3"
  },
  "language_info": {
   "codemirror_mode": {
    "name": "ipython",
    "version": 3
   },
   "file_extension": ".py",
   "mimetype": "text/x-python",
   "name": "python",
   "nbconvert_exporter": "python",
   "pygments_lexer": "ipython3",
   "version": "3.11.7"
  }
 },
 "nbformat": 4,
 "nbformat_minor": 5
}
